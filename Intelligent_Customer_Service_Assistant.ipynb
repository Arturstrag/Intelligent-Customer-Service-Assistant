{
  "nbformat": 4,
  "nbformat_minor": 0,
  "metadata": {
    "colab": {
      "provenance": []
    },
    "kernelspec": {
      "name": "python3",
      "display_name": "Python 3"
    },
    "language_info": {
      "name": "python"
    }
  },
  "cells": [
    {
      "cell_type": "code",
      "execution_count": null,
      "metadata": {
        "colab": {
          "base_uri": "https://localhost:8080/"
        },
        "id": "rjOsDqvjgCQ1",
        "outputId": "d99643d4-f33c-46ce-e39b-811b5b043e91"
      },
      "outputs": [
        {
          "output_type": "stream",
          "name": "stdout",
          "text": [
            "Requirement already satisfied: numpy==1.24.3 in /usr/local/lib/python3.11/dist-packages (1.24.3)\n"
          ]
        }
      ],
      "source": [
        "!pip install numpy==1.24.3"
      ]
    },
    {
      "cell_type": "code",
      "source": [
        "!pip install -qU crewai==0.28.8 crewai_tools==0.1.6 langchain_community==0.0.29 openai"
      ],
      "metadata": {
        "id": "aQOvZKsAgHWf"
      },
      "execution_count": null,
      "outputs": []
    },
    {
      "cell_type": "code",
      "source": [
        "import os\n",
        "from crewai import Agent, Task, Crew, Process\n",
        "from openai import OpenAI\n",
        "import time\n",
        "import pandas as pd\n",
        "from langchain.agents import Tool\n",
        "from google.colab import userdata\n",
        "from langchain_openai import ChatOpenAI"
      ],
      "metadata": {
        "colab": {
          "base_uri": "https://localhost:8080/"
        },
        "id": "rqvsw4gagOoU",
        "outputId": "0552e91f-3182-49ec-9619-8a15e36fe4d6"
      },
      "execution_count": null,
      "outputs": [
        {
          "output_type": "stream",
          "name": "stderr",
          "text": [
            "/usr/local/lib/python3.11/dist-packages/pydantic/_internal/_generate_schema.py:913: UserWarning: Mixing V1 models and V2 models (or constructs, like `TypeAdapter`) is not supported. Please upgrade `CrewAgentExecutor` to V2.\n",
            "  warn(\n"
          ]
        }
      ]
    },
    {
      "cell_type": "markdown",
      "source": [
        "# Connection to LLM"
      ],
      "metadata": {
        "id": "cAzjGsPwhFVZ"
      }
    },
    {
      "cell_type": "code",
      "source": [
        "os.environ[\"OPENAI_API_KEY\"] = userdata.get('openai')\n",
        "\n",
        "class CFG:\n",
        "    model = 'gpt-4o-mini'\n",
        "    temp = 0\n",
        "    client_id = 'demo@demo.com'\n",
        "\n",
        "llm = ChatOpenAI(model=CFG.model, temperature=CFG.temp)"
      ],
      "metadata": {
        "id": "Bp6RyyUug0fk"
      },
      "execution_count": null,
      "outputs": []
    },
    {
      "cell_type": "markdown",
      "source": [
        "The code retrieves the OpenAI API key from a userdata dictionary and sets it as an environment variable. It defines a configuration class (CFG) that specifies the model to use (gpt-4o-mini), the temperature (0, for deterministic output), a path to a folder containing PDFs, and a dummy client ID. Finally, it initializes a language model (llm) using the specified model and temperature settings."
      ],
      "metadata": {
        "id": "V8U_UTyrhH9F"
      }
    },
    {
      "cell_type": "code",
      "source": [
        "#to check if the model operates\n",
        "llm.invoke('Hello').content"
      ],
      "metadata": {
        "colab": {
          "base_uri": "https://localhost:8080/",
          "height": 36
        },
        "id": "LaO0azCfha9e",
        "outputId": "ae73d6e7-de9a-4ad8-be7c-653fe1fe3101"
      },
      "execution_count": null,
      "outputs": [
        {
          "output_type": "execute_result",
          "data": {
            "text/plain": [
              "'Hello! How can I assist you today?'"
            ],
            "application/vnd.google.colaboratory.intrinsic+json": {
              "type": "string"
            }
          },
          "metadata": {},
          "execution_count": 5
        }
      ]
    },
    {
      "cell_type": "code",
      "source": [
        "#this is some simulation of any external data interaction\n",
        "product_portfolio = {\n",
        "    'TV': [\n",
        "        {'id': '1234', 'product_name': 'TV set Sony', 'price': '300', 'manual': 'http://manual/tvsetSony'}\n",
        "    ],\n",
        "    'mobile phone': [\n",
        "        {'id': '1238', 'product_name': 'Samsung', 'price': '250', 'manual': 'http://manual/mobilesamsung'}\n",
        "    ]\n",
        "}\n",
        "\n",
        "orders_database = {\n",
        "    'demo@demo.com': [\n",
        "        {'order_number': '1235', 'product_name': 'Apple', 'price': '350', 'status': 'waiting for confirmation'}\n",
        "    ]\n",
        "}\n"
      ],
      "metadata": {
        "id": "7XSxgGUZhbPz"
      },
      "execution_count": null,
      "outputs": []
    },
    {
      "cell_type": "code",
      "source": [
        "def search_products(query: str) -> str:\n",
        "    for category, products in product_portfolio.items():\n",
        "        for product in products:\n",
        "            if query.lower() in product[\"product_name\"].lower():\n",
        "                return f'{product[\"product_name\"]} - ${product[\"price\"]} - Manual: {product[\"manual\"]}'\n",
        "    return \"Product not found.\"\n",
        "\n",
        "def check_order_status(_: str) -> str:\n",
        "    orders = orders_database.get(CFG.client_id, [])\n",
        "    if not orders:\n",
        "        return \"No orders found.\"\n",
        "    return \"\\n\".join([f'{o[\"product_name\"]}: {o[\"status\"]}' for o in orders])\n",
        "\n",
        "search_tool = Tool(name=\"ProductSearch\", func=search_products, description=\"Search product info\")\n",
        "order_status_tool = Tool(name=\"OrderStatus\", func=check_order_status, description=\"Check order status\")"
      ],
      "metadata": {
        "id": "w2IVK6uzidyJ"
      },
      "execution_count": null,
      "outputs": []
    },
    {
      "cell_type": "markdown",
      "source": [
        "search_products\n",
        "searches the product catalog (product_portfolio) to find a product matching the query.\n",
        "\n",
        "If found, it returns the product name, price, and a link to the manual.\n",
        "\n",
        "If not found, it returns \"Product not found.\""
      ],
      "metadata": {
        "id": "IusR1dx0iq6s"
      }
    },
    {
      "cell_type": "markdown",
      "source": [
        "check_order_status checks the order status for the client with the ID CFG.client_id in the orders_database.\n",
        "\n",
        "If no orders are found, it returns \"No orders found.\"\n",
        "\n",
        "Otherwise, it returns a list of ordered products along with their statuses."
      ],
      "metadata": {
        "id": "VrU3pxo4i0qh"
      }
    },
    {
      "cell_type": "code",
      "source": [
        "#define subagents\n",
        "purchase_agent = Agent(\n",
        "    role=\"Purchase Agent\",\n",
        "    goal=\"Answer product-related questions using tools and database\",\n",
        "    backstory=\"Helps customers with product questions and order info.\",\n",
        "    tools=[search_tool, order_status_tool],\n",
        "    llm=llm,\n",
        "    verbose=True\n",
        ")\n",
        "\n",
        "complaint_agent = Agent(\n",
        "    role=\"Complaint Agent\",\n",
        "    goal=\"Process new complaints or provide status\",\n",
        "    backstory=\"Handles new complaints and tracks existing ones.\",\n",
        "    tools=[],\n",
        "    llm=llm,\n",
        "    verbose=True\n",
        ")\n",
        "\n",
        "return_agent = Agent(\n",
        "    role=\"Return Agent\",\n",
        "    goal=\"Handle return requests or status questions\",\n",
        "    backstory=\"Supports customers in returning products and updates systems.\",\n",
        "    tools=[],\n",
        "    llm=llm,\n",
        "    verbose=True\n",
        ")\n",
        "\n",
        "other_agent = Agent(\n",
        "    role=\"General Support Agent\",\n",
        "    goal=\"Answer miscellaneous customer questions\",\n",
        "    backstory=\"Handles general or unclear inquiries and routes them if needed.\",\n",
        "    tools=[],\n",
        "    llm=llm,\n",
        "    verbose=True\n",
        ")"
      ],
      "metadata": {
        "id": "L8d1tc9rirhx"
      },
      "execution_count": null,
      "outputs": []
    },
    {
      "cell_type": "markdown",
      "source": [
        "This code defines four specialized AI agents for handling different types of customer service tasks. Each agent is initialized with a specific role, goal, backstory, and access to tools (if needed). Here's a summary:\n",
        "\n",
        "purchase_agent: Assists customers with product-related questions and order status. It uses tools for product search and checking order information.\n",
        "\n",
        "complaint_agent: Manages customer complaints, including submitting new ones and checking the status of existing ones. It doesn't use any tools in this setup.\n",
        "\n",
        "return_agent: Handles product return requests and related questions. Like the complaint agent, it currently has no tools assigned.\n",
        "\n",
        "other_agent: Takes care of general or unclear customer inquiries and routes them appropriately if needed. It also operates without tools."
      ],
      "metadata": {
        "id": "1ZtEIKFSk5s4"
      }
    },
    {
      "cell_type": "code",
      "source": [
        "# === CLASSIFIER AGENT ===\n",
        "\n",
        "classifier_agent = Agent(\n",
        "    role=\"Customer Service Manager\",\n",
        "    goal=\"Analyze customer message and decide intent category\",\n",
        "    backstory=\"\"\"\n",
        "    You are responsible for understanding the customer's intent based on the message\n",
        "    and triggering the correct agent: Purchase, Complaint, Return, or Other.\n",
        "    \"\"\",\n",
        "    llm=llm,\n",
        "    verbose=True\n",
        ")\n",
        "\n",
        "# === CLASSIFICATION TASK ===\n",
        "\n",
        "def classify_intent(message: str) -> str:\n",
        "    classification_prompt = f\"\"\"\n",
        "    You are a classifier. Given the message: \"{message}\", decide its intent category.\n",
        "    Choose one of: Purchase, Complaint, Return, Other.\n",
        "    Only output one word.\n",
        "    \"\"\"\n",
        "    response = llm.invoke(classification_prompt)\n",
        "    return response.content.strip()\n",
        "\n",
        "# === DELEGATION LOGIC ===\n",
        "\n",
        "def delegate_task(message: str):\n",
        "    category = classify_intent(message)\n",
        "    print(f\"📌 Classified as: {category}\")\n",
        "\n",
        "    if category.lower() == \"purchase\":\n",
        "        task = Task(\n",
        "            description=f\"Customer message: '{message}'. Answer using tools.\",\n",
        "            expected_output=\"Product info or order details.\",\n",
        "            agent=purchase_agent\n",
        "        )\n",
        "    elif category.lower() == \"complaint\":\n",
        "        task = Task(\n",
        "            description=f\"Customer message: '{message}'. Respond as complaint handler.\",\n",
        "            expected_output=\"Complaint processed.\",\n",
        "            agent=complaint_agent\n",
        "        )\n",
        "    elif category.lower() == \"return\":\n",
        "        task = Task(\n",
        "            description=f\"Customer message: '{message}'. Handle return.\",\n",
        "            expected_output=\"Return steps provided.\",\n",
        "            agent=return_agent\n",
        "        )\n",
        "    else:\n",
        "        task = Task(\n",
        "            description=f\"Customer message: '{message}'. Handle as general inquiry.\",\n",
        "            expected_output=\"Helpful response or escalation.\",\n",
        "            agent=other_agent\n",
        "        )\n",
        "\n",
        "    crew = Crew(\n",
        "        agents=[task.agent],\n",
        "        tasks=[task],\n",
        "        verbose=True\n",
        "    )\n",
        "    return crew.kickoff()"
      ],
      "metadata": {
        "id": "ZUvPlshmjFS2"
      },
      "execution_count": null,
      "outputs": []
    },
    {
      "cell_type": "markdown",
      "source": [
        "classifier_agent\n",
        "\n",
        "An agent acting as a \"Customer Service Manager\".\n",
        "\n",
        "Its role is to understand the customer's message and determine which category it belongs to.\n",
        "\n",
        "classify_intent(message: str)\n",
        "\n",
        "A function that sends the customer's message to the language model with a prompt.\n",
        "\n",
        "The model returns one of four intent categories: Purchase, Complaint, Return, or Other.\n",
        "\n",
        "delegate_task(message: str)\n",
        "\n",
        "Uses the classify_intent function to determine the category of the message.\n",
        "\n",
        "Based on the result, it creates a task for the matching agent (purchase_agent, complaint_agent, return_agent, or other_agent).\n",
        "\n",
        "It then starts a Crew with the selected agent and task, and runs the conversation using .kickoff()."
      ],
      "metadata": {
        "id": "Lv7RYI0RloFV"
      }
    },
    {
      "cell_type": "code",
      "source": [
        "# === TEST EXAMPLES ===\n",
        "\n",
        "test_messages = [\n",
        "    \"I want to know more about the TV set Sony.\",\n",
        "    \"I received a broken phone. I want to file a complaint.\",\n",
        "    \"I want to return my Apple phone.\",\n",
        "    \"What are your support hours?\"\n",
        "]\n",
        "\n",
        "for msg in test_messages:\n",
        "    print(f\"\\n🟦 CUSTOMER MESSAGE: {msg}\")\n",
        "    response = delegate_task(msg)\n",
        "    print(f\"✅ AGENT RESPONSE:\\n{response}\\n\")"
      ],
      "metadata": {
        "colab": {
          "base_uri": "https://localhost:8080/"
        },
        "id": "xaxnmS09lhJI",
        "outputId": "cc8a3d57-b32e-4543-9a71-cb19bed31901"
      },
      "execution_count": null,
      "outputs": [
        {
          "output_type": "stream",
          "name": "stdout",
          "text": [
            "\n",
            "🟦 CUSTOMER MESSAGE: I want to know more about the TV set Sony.\n",
            "📌 Classified as: Other\n",
            "\u001b[1m\u001b[95m [DEBUG]: == Working Agent: General Support Agent\u001b[00m\n",
            "\u001b[1m\u001b[95m [INFO]: == Starting Task: Customer message: 'I want to know more about the TV set Sony.'. Handle as general inquiry.\u001b[00m\n",
            "\n",
            "\n",
            "\u001b[1m> Entering new CrewAgentExecutor chain...\u001b[0m\n",
            "\u001b[32;1m\u001b[1;3mI now can give a great answer  \n",
            "Final Answer: Thank you for your inquiry about Sony TV sets! Sony offers a wide range of televisions that cater to various needs and preferences. Their lineup includes OLED, LED, and 4K Ultra HD models, known for their exceptional picture quality, vibrant colors, and advanced technology. \n",
            "\n",
            "Some key features of Sony TVs include:\n",
            "\n",
            "1. **Picture Quality**: Sony's OLED TVs provide deep blacks and stunning contrast, while their LED models offer bright and vivid images. Many models also support HDR (High Dynamic Range) for enhanced color and detail.\n",
            "\n",
            "2. **Smart Features**: Most Sony TVs come with Android TV, allowing you to access a variety of streaming services, apps, and games. You can also use voice commands with Google Assistant for hands-free control.\n",
            "\n",
            "3. **Sound Quality**: Sony incorporates advanced audio technologies, such as Acoustic Surface Audio in their OLED models, which creates a more immersive sound experience by using the screen itself as a speaker.\n",
            "\n",
            "4. **Design**: Sony TVs are known for their sleek and modern designs, making them a stylish addition to any living space.\n",
            "\n",
            "5. **Sizes and Models**: Sony offers a range of sizes from compact models suitable for smaller rooms to large screens ideal for home theaters. Popular series include the A90J OLED, X90J LED, and the Z9J 8K LED.\n",
            "\n",
            "If you have specific questions about a particular model or need assistance with purchasing, please let me know, and I can provide more detailed information or direct you to a sales representative.\u001b[0m\n",
            "\n",
            "\u001b[1m> Finished chain.\u001b[0m\n",
            "\u001b[1m\u001b[92m [DEBUG]: == [General Support Agent] Task output: Thank you for your inquiry about Sony TV sets! Sony offers a wide range of televisions that cater to various needs and preferences. Their lineup includes OLED, LED, and 4K Ultra HD models, known for their exceptional picture quality, vibrant colors, and advanced technology. \n",
            "\n",
            "Some key features of Sony TVs include:\n",
            "\n",
            "1. **Picture Quality**: Sony's OLED TVs provide deep blacks and stunning contrast, while their LED models offer bright and vivid images. Many models also support HDR (High Dynamic Range) for enhanced color and detail.\n",
            "\n",
            "2. **Smart Features**: Most Sony TVs come with Android TV, allowing you to access a variety of streaming services, apps, and games. You can also use voice commands with Google Assistant for hands-free control.\n",
            "\n",
            "3. **Sound Quality**: Sony incorporates advanced audio technologies, such as Acoustic Surface Audio in their OLED models, which creates a more immersive sound experience by using the screen itself as a speaker.\n",
            "\n",
            "4. **Design**: Sony TVs are known for their sleek and modern designs, making them a stylish addition to any living space.\n",
            "\n",
            "5. **Sizes and Models**: Sony offers a range of sizes from compact models suitable for smaller rooms to large screens ideal for home theaters. Popular series include the A90J OLED, X90J LED, and the Z9J 8K LED.\n",
            "\n",
            "If you have specific questions about a particular model or need assistance with purchasing, please let me know, and I can provide more detailed information or direct you to a sales representative.\n",
            "\n",
            "\u001b[00m\n",
            "✅ AGENT RESPONSE:\n",
            "Thank you for your inquiry about Sony TV sets! Sony offers a wide range of televisions that cater to various needs and preferences. Their lineup includes OLED, LED, and 4K Ultra HD models, known for their exceptional picture quality, vibrant colors, and advanced technology. \n",
            "\n",
            "Some key features of Sony TVs include:\n",
            "\n",
            "1. **Picture Quality**: Sony's OLED TVs provide deep blacks and stunning contrast, while their LED models offer bright and vivid images. Many models also support HDR (High Dynamic Range) for enhanced color and detail.\n",
            "\n",
            "2. **Smart Features**: Most Sony TVs come with Android TV, allowing you to access a variety of streaming services, apps, and games. You can also use voice commands with Google Assistant for hands-free control.\n",
            "\n",
            "3. **Sound Quality**: Sony incorporates advanced audio technologies, such as Acoustic Surface Audio in their OLED models, which creates a more immersive sound experience by using the screen itself as a speaker.\n",
            "\n",
            "4. **Design**: Sony TVs are known for their sleek and modern designs, making them a stylish addition to any living space.\n",
            "\n",
            "5. **Sizes and Models**: Sony offers a range of sizes from compact models suitable for smaller rooms to large screens ideal for home theaters. Popular series include the A90J OLED, X90J LED, and the Z9J 8K LED.\n",
            "\n",
            "If you have specific questions about a particular model or need assistance with purchasing, please let me know, and I can provide more detailed information or direct you to a sales representative.\n",
            "\n",
            "\n",
            "🟦 CUSTOMER MESSAGE: I received a broken phone. I want to file a complaint.\n"
          ]
        },
        {
          "output_type": "stream",
          "name": "stderr",
          "text": [
            "WARNING:opentelemetry.trace:Overriding of current TracerProvider is not allowed\n"
          ]
        },
        {
          "output_type": "stream",
          "name": "stdout",
          "text": [
            "📌 Classified as: Complaint\n",
            "\u001b[1m\u001b[95m [DEBUG]: == Working Agent: Complaint Agent\u001b[00m\n",
            "\u001b[1m\u001b[95m [INFO]: == Starting Task: Customer message: 'I received a broken phone. I want to file a complaint.'. Respond as complaint handler.\u001b[00m\n",
            "\n",
            "\n",
            "\u001b[1m> Entering new CrewAgentExecutor chain...\u001b[0m\n",
            "\u001b[32;1m\u001b[1;3mI now can give a great answer  \n",
            "Final Answer: Thank you for reaching out to us regarding the issue with your phone. I’m sorry to hear that you received a broken device. I will assist you in filing a complaint and ensure that it is processed promptly. \n",
            "\n",
            "To proceed, I need to gather some information from you:\n",
            "\n",
            "1. **Order Number**: Please provide the order number associated with your purchase.\n",
            "2. **Description of the Damage**: Could you describe the specific issues with the phone? For example, is the screen cracked, or is it not turning on?\n",
            "3. **Photos**: If possible, please attach any photos of the damage to help us assess the situation better.\n",
            "4. **Preferred Resolution**: What would you like us to do? Would you prefer a replacement, a repair, or a refund?\n",
            "\n",
            "Once I have this information, I will file your complaint and keep you updated on the status. Thank you for your patience, and I apologize for any inconvenience this may have caused.\u001b[0m\n",
            "\n",
            "\u001b[1m> Finished chain.\u001b[0m\n",
            "\u001b[1m\u001b[92m [DEBUG]: == [Complaint Agent] Task output: Thank you for reaching out to us regarding the issue with your phone. I’m sorry to hear that you received a broken device. I will assist you in filing a complaint and ensure that it is processed promptly. \n",
            "\n",
            "To proceed, I need to gather some information from you:\n",
            "\n",
            "1. **Order Number**: Please provide the order number associated with your purchase.\n",
            "2. **Description of the Damage**: Could you describe the specific issues with the phone? For example, is the screen cracked, or is it not turning on?\n",
            "3. **Photos**: If possible, please attach any photos of the damage to help us assess the situation better.\n",
            "4. **Preferred Resolution**: What would you like us to do? Would you prefer a replacement, a repair, or a refund?\n",
            "\n",
            "Once I have this information, I will file your complaint and keep you updated on the status. Thank you for your patience, and I apologize for any inconvenience this may have caused.\n",
            "\n",
            "\u001b[00m\n",
            "✅ AGENT RESPONSE:\n",
            "Thank you for reaching out to us regarding the issue with your phone. I’m sorry to hear that you received a broken device. I will assist you in filing a complaint and ensure that it is processed promptly. \n",
            "\n",
            "To proceed, I need to gather some information from you:\n",
            "\n",
            "1. **Order Number**: Please provide the order number associated with your purchase.\n",
            "2. **Description of the Damage**: Could you describe the specific issues with the phone? For example, is the screen cracked, or is it not turning on?\n",
            "3. **Photos**: If possible, please attach any photos of the damage to help us assess the situation better.\n",
            "4. **Preferred Resolution**: What would you like us to do? Would you prefer a replacement, a repair, or a refund?\n",
            "\n",
            "Once I have this information, I will file your complaint and keep you updated on the status. Thank you for your patience, and I apologize for any inconvenience this may have caused.\n",
            "\n",
            "\n",
            "🟦 CUSTOMER MESSAGE: I want to return my Apple phone.\n"
          ]
        },
        {
          "output_type": "stream",
          "name": "stderr",
          "text": [
            "WARNING:opentelemetry.trace:Overriding of current TracerProvider is not allowed\n"
          ]
        },
        {
          "output_type": "stream",
          "name": "stdout",
          "text": [
            "📌 Classified as: Return\n",
            "\u001b[1m\u001b[95m [DEBUG]: == Working Agent: Return Agent\u001b[00m\n",
            "\u001b[1m\u001b[95m [INFO]: == Starting Task: Customer message: 'I want to return my Apple phone.'. Handle return.\u001b[00m\n",
            "\n",
            "\n",
            "\u001b[1m> Entering new CrewAgentExecutor chain...\u001b[0m\n",
            "\u001b[32;1m\u001b[1;3mI now can give a great answer  \n",
            "Final Answer: To initiate the return of your Apple phone, please follow these steps:\n",
            "\n",
            "1. **Check the Return Policy**: Ensure that your purchase is eligible for return. Typically, Apple products can be returned within 14 days of receipt, provided they are in their original condition and packaging.\n",
            "\n",
            "2. **Prepare the Phone for Return**:\n",
            "   - Make sure to back up any data you want to keep, as returning the phone will erase all personal information.\n",
            "   - Remove any accessories, cases, or screen protectors.\n",
            "   - Include all original packaging, manuals, and any included accessories.\n",
            "\n",
            "3. **Obtain a Return Authorization**:\n",
            "   - Visit the Apple website or the retailer's website where you purchased the phone.\n",
            "   - Log into your account and navigate to the order history.\n",
            "   - Select the order containing the Apple phone and choose the option to initiate a return.\n",
            "   - Follow the prompts to generate a return authorization number (RAN) if required.\n",
            "\n",
            "4. **Package the Phone**:\n",
            "   - Place the phone securely in its original packaging or a suitable box to prevent damage during shipping.\n",
            "   - Include the return authorization number inside the package if applicable.\n",
            "\n",
            "5. **Ship the Phone**:\n",
            "   - Use a reliable shipping method that provides tracking. You may want to consider purchasing insurance for the shipment.\n",
            "   - If you received a prepaid return label, affix it to the package. If not, you will need to cover the shipping costs.\n",
            "\n",
            "6. **Track Your Return**:\n",
            "   - Keep the tracking number for your records. You can use it to monitor the return shipment.\n",
            "   - Once the return is received and processed, you will receive a confirmation email regarding your refund or exchange.\n",
            "\n",
            "If you have any further questions or need assistance during the return process, feel free to reach out. Thank you for choosing Apple!\u001b[0m\n",
            "\n",
            "\u001b[1m> Finished chain.\u001b[0m\n",
            "\u001b[1m\u001b[92m [DEBUG]: == [Return Agent] Task output: To initiate the return of your Apple phone, please follow these steps:\n",
            "\n",
            "1. **Check the Return Policy**: Ensure that your purchase is eligible for return. Typically, Apple products can be returned within 14 days of receipt, provided they are in their original condition and packaging.\n",
            "\n",
            "2. **Prepare the Phone for Return**:\n",
            "   - Make sure to back up any data you want to keep, as returning the phone will erase all personal information.\n",
            "   - Remove any accessories, cases, or screen protectors.\n",
            "   - Include all original packaging, manuals, and any included accessories.\n",
            "\n",
            "3. **Obtain a Return Authorization**:\n",
            "   - Visit the Apple website or the retailer's website where you purchased the phone.\n",
            "   - Log into your account and navigate to the order history.\n",
            "   - Select the order containing the Apple phone and choose the option to initiate a return.\n",
            "   - Follow the prompts to generate a return authorization number (RAN) if required.\n",
            "\n",
            "4. **Package the Phone**:\n",
            "   - Place the phone securely in its original packaging or a suitable box to prevent damage during shipping.\n",
            "   - Include the return authorization number inside the package if applicable.\n",
            "\n",
            "5. **Ship the Phone**:\n",
            "   - Use a reliable shipping method that provides tracking. You may want to consider purchasing insurance for the shipment.\n",
            "   - If you received a prepaid return label, affix it to the package. If not, you will need to cover the shipping costs.\n",
            "\n",
            "6. **Track Your Return**:\n",
            "   - Keep the tracking number for your records. You can use it to monitor the return shipment.\n",
            "   - Once the return is received and processed, you will receive a confirmation email regarding your refund or exchange.\n",
            "\n",
            "If you have any further questions or need assistance during the return process, feel free to reach out. Thank you for choosing Apple!\n",
            "\n",
            "\u001b[00m\n",
            "✅ AGENT RESPONSE:\n",
            "To initiate the return of your Apple phone, please follow these steps:\n",
            "\n",
            "1. **Check the Return Policy**: Ensure that your purchase is eligible for return. Typically, Apple products can be returned within 14 days of receipt, provided they are in their original condition and packaging.\n",
            "\n",
            "2. **Prepare the Phone for Return**:\n",
            "   - Make sure to back up any data you want to keep, as returning the phone will erase all personal information.\n",
            "   - Remove any accessories, cases, or screen protectors.\n",
            "   - Include all original packaging, manuals, and any included accessories.\n",
            "\n",
            "3. **Obtain a Return Authorization**:\n",
            "   - Visit the Apple website or the retailer's website where you purchased the phone.\n",
            "   - Log into your account and navigate to the order history.\n",
            "   - Select the order containing the Apple phone and choose the option to initiate a return.\n",
            "   - Follow the prompts to generate a return authorization number (RAN) if required.\n",
            "\n",
            "4. **Package the Phone**:\n",
            "   - Place the phone securely in its original packaging or a suitable box to prevent damage during shipping.\n",
            "   - Include the return authorization number inside the package if applicable.\n",
            "\n",
            "5. **Ship the Phone**:\n",
            "   - Use a reliable shipping method that provides tracking. You may want to consider purchasing insurance for the shipment.\n",
            "   - If you received a prepaid return label, affix it to the package. If not, you will need to cover the shipping costs.\n",
            "\n",
            "6. **Track Your Return**:\n",
            "   - Keep the tracking number for your records. You can use it to monitor the return shipment.\n",
            "   - Once the return is received and processed, you will receive a confirmation email regarding your refund or exchange.\n",
            "\n",
            "If you have any further questions or need assistance during the return process, feel free to reach out. Thank you for choosing Apple!\n",
            "\n",
            "\n",
            "🟦 CUSTOMER MESSAGE: What are your support hours?\n"
          ]
        },
        {
          "output_type": "stream",
          "name": "stderr",
          "text": [
            "WARNING:opentelemetry.trace:Overriding of current TracerProvider is not allowed\n"
          ]
        },
        {
          "output_type": "stream",
          "name": "stdout",
          "text": [
            "📌 Classified as: Other\n",
            "\u001b[1m\u001b[95m [DEBUG]: == Working Agent: General Support Agent\u001b[00m\n",
            "\u001b[1m\u001b[95m [INFO]: == Starting Task: Customer message: 'What are your support hours?'. Handle as general inquiry.\u001b[00m\n",
            "\n",
            "\n",
            "\u001b[1m> Entering new CrewAgentExecutor chain...\u001b[0m\n",
            "\u001b[32;1m\u001b[1;3mI now can give a great answer  \n",
            "Final Answer: Our support hours are Monday through Friday, from 9:00 AM to 5:00 PM (local time). If you have any inquiries outside of these hours, please feel free to leave a message or send an email, and we will get back to you as soon as possible during our next business day. If you need immediate assistance, please check our FAQ section on our website for common questions and answers. Thank you for reaching out!\u001b[0m\n",
            "\n",
            "\u001b[1m> Finished chain.\u001b[0m\n",
            "\u001b[1m\u001b[92m [DEBUG]: == [General Support Agent] Task output: Our support hours are Monday through Friday, from 9:00 AM to 5:00 PM (local time). If you have any inquiries outside of these hours, please feel free to leave a message or send an email, and we will get back to you as soon as possible during our next business day. If you need immediate assistance, please check our FAQ section on our website for common questions and answers. Thank you for reaching out!\n",
            "\n",
            "\u001b[00m\n",
            "✅ AGENT RESPONSE:\n",
            "Our support hours are Monday through Friday, from 9:00 AM to 5:00 PM (local time). If you have any inquiries outside of these hours, please feel free to leave a message or send an email, and we will get back to you as soon as possible during our next business day. If you need immediate assistance, please check our FAQ section on our website for common questions and answers. Thank you for reaching out!\n",
            "\n"
          ]
        }
      ]
    },
    {
      "cell_type": "code",
      "source": [],
      "metadata": {
        "id": "_GD1o_0imxQa"
      },
      "execution_count": null,
      "outputs": []
    }
  ]
}